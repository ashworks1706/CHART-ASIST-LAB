{
 "cells": [
  {
   "cell_type": "markdown",
   "metadata": {},
   "source": [
    "# Multi-Modal Data Analysis Workflow\n",
    "\n",
    "**ASIST Study 3 Dataset**\n",
    "\n",
    "#### **Team 000315 Pre-Result Analysis**\n",
    "\n",
    "Engineer exibited poor skill during the hands on training. It took him a very long time to complete the individual training which resulted in the mission timer running out during the team training section. Once the timer expired, the hands-on training trial was restarted and participants again completed the individual training. Engineer's second attempt still took over 5 minutes to complete individual training. The competency test was then started at 13m remaining on the timer, the engineer took a full 5 minutes to complete the competency test. Experiment team decided that engineer should be allowed to proceed to avoid rescheduling dispite the evident lack of minecraft skill.\n",
    "\n",
    "## Objective\n",
    "\n",
    "Analyze team performance data across four modalities:\n",
    "\n",
    "1. JSON behavior logs\n",
    "2. Video recordings\n",
    "3. Chat transcripts\n",
    "\n",
    "Identify correlations between AI interventions and team outcomes.\n",
    "\n",
    "## Note\n",
    "\n",
    "All datasets were taken from official CHART ASIST Study 3 Dataset available at ASU official repository.\n",
    "\n",
    "#### Subset used :\n",
    "\n",
    "| Team ID | ASI ID        | trial   | intervention_recipent     |\n",
    "| ------- | ------------- | ------- | ------------------------- |\n",
    "| 000315  | ASI-CMURI-TA1 | T000829 | E001211, E001215, E001155 |\n",
    "\n",
    "\n",
    "\n",
    "**AI Agent Action signals** -\n",
    "\n",
    "1. RemindTransporterBeep\n",
    "2. InformAboutTriagedVictim\n",
    "3. RemindMedicToInformAboutTriagedVicti\n",
    "4. TriageCriticalVictim\n",
    "5. EvacuateCriticalVictim\n",
    "6. EncouragePlayerProximityToMedicIHMCDyad\n",
    "7. RemindChangeMarke\n",
    "8. RemindRubblePerturbatio\n",
    "9. EvacuationZoneDistanc\n",
    "10. TeamSawVictimMarke\n",
    "11. TimeElapse\n",
    "12. StartEvacuatio\n",
    "\n",
    "**Agents location**-\n",
    "\n",
    "1. Location of the agent in the map -> Room Name\n",
    "\n",
    "**Agent Action**-\n",
    "\n",
    "1. Transporting victims\n",
    "2. Performing their role task including stabilizing victims\n",
    "3. wakening up critical victims\n",
    "4. placing marking block-> Regular, A, B, C\n",
    "5. placing marking block for threat rooms\n",
    "6. removing rubbles\n",
    "7. detecting victims\n",
    "\n",
    "## Manual Dataframe\n",
    "\n",
    "Timestamp, AI Message, AI Action Class, Transporter Message, Engineer Message, Medic Message is extracted from transcript.csv\n",
    "\n",
    "We use Multimodal LLM analysis to analyze video data to give states and locations of agents + victims throughout the experiment\n",
    "\n",
    "\n",
    "| Time Stamp (Transcript) | Asi Message (Transcript) | Asi Action Class (Transcript) | Transporter Message (Transcript) | Engineer Message (Transcript) | Medic Message (Transcript) |\n",
    "| ----------------------- | ------------------------ | ----------------------------- | ------------------------------- | ----------------------------- | -------------------------- |\n",
    "| 11:23:01                | N/A                      | N/A                           | N/A                             | N/A                           | N/A                        |\n",
    "\n",
    "## llmv1 Dataframe\n",
    "\n",
    "States tells us what the agent is doing\n",
    "Locations tells use where the agent is located in the map\n",
    "\n",
    "States and locations are fused together using LLM analysis to form one action_state column signifying their role in a situation\n",
    "\n",
    "| timestamp (Transcript) | asi_reason (Transcript) | asi_action (Transcript) | transporter_message (Transcript) | engineer_message (Transcript) | medic_message (Transcript) | transporter_action_state (LLM) | engineer_action_state (LLM) | medic_action_state (LLM) | victim_location (LLM) | \n",
    "| --------- | --------- | --------- | ------------------ | --------------- | ------------ | --------------- | --------------- | ------------ | --------------- |\n",
    "|           |           |           |                    |                 |              |                 |                 |              |                 |\n",
    "\n",
    "\n",
    "We then utilize another LLM to finally provide ASI Advice score and team score for their actions and LLM's reasoning behiind that\n",
    "\n",
    "## llmv2 Dataframe\n",
    "| timestamp (Transcript) | asi_reason (Transcript) | asi_action (Transcript) | transporter_message (Transcript) | engineer_message (Transcript) | medic_message (Transcript) | transporter_action_state (LLM) | engineer_action_state (LLM) | medic_action_state (LLM) | victim_location (LLM) | team_score (LLM) | asi_advice_score (LLM) | team_score_reason (LLM) | asi_advice_score_reason (LLM)\n",
    "| --------- | --------- | --------- | ------------------ | --------------- | ------------ | --------------- | ---------- | --------------- | --------------- |--------------- |--------------- | --------------- | --------------- |\n",
    "|     22:03      |   You guys should do [asi_action_class] because...        | 1. RemindTransporterBeep <br/>2. InformAboutTriagedVictim <br/>3. RemindMedicToInformAboutTriagedVicti <br/>4. TriageCriticalVictim <br/>5. EvacuateCriticalVictim <br/>6.EncouragePlayerProximityToMedicIHMCDyad <br/>7. RemindChangeMarke <br/>8. RemindRubblePerturbatio <br/>9. EvacuationZoneDistanc <br/>10. TeamSawVictimMarke <br/>11. TimeElapse <br/>12. StartEvacuatio|     I'm coming for you medic               |     This is more important               |     I can't help you!               |     Carrying a victim from b4 to g4 room               |     Clearing rubbles in threat room for medic  at a9 room          |     waking up critical victim at g5 room        |    next to medic, far from engineer, close to transporter            |  40%          |     75%           | team was inconsistent with their tasks, especially... | asi's advice is particularly useful because... |\n",
    "\n",
    "\n",
    "## AI Instruct Modal\n",
    "\n",
    "We finetune pretrained LLM on our data for understanding minecraft test bed for asist thoroughly and deeply. Then we utilize it to perform-\n",
    "\n",
    "1. **Multimodal DataAnalysis of Video Data** \n",
    "\n",
    "To give information about agent locations and their actions\n",
    "\n",
    "2. **Text Fusion Data Analysis**\n",
    "\n",
    "To fuse meanings and relationships between agent communication, their location and state in given situations to a single column\n",
    "\n",
    "3. **Scoring Analysis**\n",
    "\n",
    "To score humans and ASI's advice on team work communication and collaboration data   \n",
    "\n"
   ]
  },
  {
   "cell_type": "markdown",
   "metadata": {},
   "source": [
    "# Installing dependencies"
   ]
  },
  {
   "cell_type": "code",
   "execution_count": 4,
   "metadata": {},
   "outputs": [],
   "source": [
    "import cv2\n",
    "from pathlib import Path\n",
    "import json\n",
    "import pandas as pd\n",
    "# import openai\n",
    "import matplotlib.pyplot as plt\n",
    "import os\n",
    "import warnings\n",
    "# import torch\n",
    "warnings.filterwarnings(\"ignore\")\n",
    "import json"
   ]
  },
  {
   "cell_type": "markdown",
   "metadata": {},
   "source": [
    "# Preparing Dataset"
   ]
  },
  {
   "cell_type": "markdown",
   "metadata": {},
   "source": [
    "### 1. JSON Logs Processing\n",
    "#### Objective\n",
    "Extract structured data from nested JSON logs containing:\n",
    "- Team actions\n",
    "- AI intervention timestamps\n",
    "- Mission outcomes\n"
   ]
  },
  {
   "cell_type": "code",
   "execution_count": null,
   "metadata": {},
   "outputs": [],
   "source": [
    "\n",
    "\n",
    "# def parse_json_logs(input_path: Path, output_path: Path) -> pd.DataFrame:\n",
    "#     \"\"\"Flatten nested JSON logs into structured format\"\"\"\n",
    "#     with open(input_path, 'r') as f:\n",
    "#         data = [json.loads(line) for line in f]\n",
    "    \n",
    "#     df = pd.json_normalize(data, sep='_')\n",
    "#     df.to_csv(output_path, index=False)\n",
    "#     return df\n",
    "\n",
    "# # Process all trial messages\n",
    "# input_files = [\n",
    "#     Path(\"data/json_logs/HSRData_TrialMessages_Trial-T000603_...\"),\n",
    "#     Path(\"data/json_logs/HSRData_TrialMessages_Trial-T000639_...\"),\n",
    "#     Path(\"data/json_logs/HSRData_TrialMessages_Trial-T000671_...\")\n",
    "# ]\n",
    "\n",
    "# output_dir = Path(\"data/processed/json_parsed/\")\n",
    "# output_dir.mkdir(parents=True, exist_ok=True)\n",
    "\n",
    "# for file in input_files:\n",
    "#     output_file = output_dir / f\"{file.stem}_parsed.csv\"\n",
    "#     df = parse_json_logs(file, output_file)\n",
    "#     print(f\"Processed {len(df)} records from {file.name}\")\n",
    "\n"
   ]
  },
  {
   "cell_type": "markdown",
   "metadata": {},
   "source": [
    "# Preparing Model"
   ]
  },
  {
   "cell_type": "markdown",
   "metadata": {},
   "source": [
    "### Objective \n",
    "\n",
    "Finetune the pretrained instruct model on testbed refined high quality data and information about agents, environment, locations. \n",
    "\n",
    "\n",
    "1. Transporting victims\n",
    "2. Performing their role task including stabilizing victims\n",
    "3. wakening up critical victims\n",
    "4. placing marking block-> Regular, A, B, C\n",
    "5. placing marking block for threat rooms\n",
    "6. removing rubbles\n",
    "7. detecting victims\n",
    "\n",
    "[ Maybe : Train model to understand video data as well ]"
   ]
  },
  {
   "cell_type": "markdown",
   "metadata": {},
   "source": [
    "### Engineer Instruct POV Model\n",
    "\n",
    "Finetune the pretrained instruct model on testbed refined high quality data and information about agents actions in minecraft video. \n",
    "\n",
    "#### Possible Actions\n",
    "\n",
    "1. Placing Avatar Yellow Marker Block for notifying there's a victim nearby for others to be aware. \n",
    "2. Placing Blank Yellow Marker Block for notifying there's a threat room nearby for others to be aware.\n",
    "3. Destroying rubles for making way for rescue teammates"
   ]
  },
  {
   "cell_type": "code",
   "execution_count": 5,
   "metadata": {},
   "outputs": [
    {
     "data": {
      "text/plain": [
       "'You are a professional Minecraft Engineer Agent Activity analyzer. You only have what to log what the agent is doing. DO NOT listen to what they\\'re saying. Follow this guideline thoroughly to log any of these important details which are happening in the video every 3 seconds of the video. Here are all important things to consider - \\n- 1. The Minecraft Agent POV Video :\\n - present on the right showing what the agent is doing, the agent here is known as Engineer, who\\'s job is to work together with a medic and transporter to save victims in a minecraft rescue simulation. Engineer agent wears blue skin while medic wears red and transporter wears green skin. Key events- \\na) Placing Avatar Yellow Marker Block for notifying there\\'s a victim nearby for others to be aware. \\nb)Placing Blank Yellow Marker Block for notifying there\\'s a threat room nearby for others to be aware.\\nc) Destroying rubles for making way for rescue teammates.\\n2. The Minecrarft Agent Location : present on the left showing where the agent is throughout the custom map, the blue dot represents the engineer. Key events- \\na)Changing Location of the agent throughout the map across various zones.\\n It\\'s not neccessary that every second there will be a key event so you can just say that nothing is happening in the video. Example JSON Response -\\n[{timestamp: \"00:03\", \"text\":\"Engineer went into D2 Zone\"},{timestamp: \"00:06\", \"text\":\"Engineer destroyed rubble and rushed to medic\"},{timestamp: \"00:09\", \"text\":\"Engineer destroyed rubble\"},]\\n[{timestamp: \"00:03\", \"text\":\"Engineer walking\"},{timestamp: \"00:06\", \"text\":\"Engineer stayed at same location for long\"},{timestamp: \"00:09\", \"text\":\"Engineer did nothing\"}]'"
      ]
     },
     "execution_count": 5,
     "metadata": {},
     "output_type": "execute_result"
    }
   ],
   "source": [
    "engineer_model_instruction = \"\"\"You are a professional Minecraft Engineer Agent Activity analyzer. You only have what to log what the agent is doing. DO NOT listen to what they're saying. Follow this guideline thoroughly to log any of these important details which are happening in the video every 3 seconds of the video. Here are all important things to consider - \\n- 1. The Minecraft Agent POV Video :\\n - present on the right showing what the agent is doing, the agent here is known as Engineer, who's job is to work together with a medic and transporter to save victims in a minecraft rescue simulation. Engineer agent wears blue skin while medic wears red and transporter wears green skin. Key events- \\na) Placing Avatar Yellow Marker Block for notifying there's a victim nearby for others to be aware. \\nb)Placing Blank Yellow Marker Block for notifying there's a threat room nearby for others to be aware.\\nc) Destroying rubles for making way for rescue teammates.\\n2. The Minecrarft Agent Location : present on the left showing where the agent is throughout the custom map, the blue dot represents the engineer. Key events- \\na)Changing Location of the agent throughout the map across various zones.\\n It's not neccessary that every second there will be a key event so you can just say that nothing is happening in the video. Example JSON Response -\\n[{timestamp: \"00:03\", \"text\":\"Engineer went into D2 Zone\"},{timestamp: \"00:06\", \"text\":\"Engineer destroyed rubble and rushed to medic\"},{timestamp: \"00:09\", \"text\":\"Engineer destroyed rubble\"},]\\n[{timestamp: \"00:03\", \"text\":\"Engineer walking\"},{timestamp: \"00:06\", \"text\":\"Engineer stayed at same location for long\"},{timestamp: \"00:09\", \"text\":\"Engineer did nothing\"}]\"\"\"\n",
    "engineer_model_instruction"
   ]
  },
  {
   "cell_type": "markdown",
   "metadata": {},
   "source": [
    "### Medic Instruct POV \n",
    "\n",
    "Finetune the pretrained instruct model on testbed refined high quality data and information about agents actions in minecraft video. \n",
    "\n",
    "1. Placing Avatar Yellow Marker Block for notifying there's a victim nearby for others to be aware. \n",
    "2. Placing Blank Yellow Marker Block for notifying there's a threat room nearby for others to be aware.\n",
    "3. Stabilizing avatar victim blocks turning into safe blocks.\n",
    "4. Stabilizing avatar victim blocks turning into X blocks notifying victim is dead."
   ]
  },
  {
   "cell_type": "code",
   "execution_count": 4,
   "metadata": {},
   "outputs": [
    {
     "data": {
      "text/plain": [
       "'You are a professional Minecraft Medic Agent Activity analyzer. You only have to log what the agent is doing. DO NOT listen to what they\\'re saying. Follow this guideline thoroughly to log any of these important details which are happening in the video every 3 seconds of the video. Here are all important things to consider - \\n- 1. The Minecraft Agent POV Video :\\n - present on the right showing what the agent is doing, the agent here is known as Medic, who\\'s job is to work together with a Engineer and transporter to save victims in a minecraft rescue simulation. Medic agent wears red skin while engineer wears blue and transporter wears green skin. Key events- \\na) Placing Avatar Yellow Marker Block for notifying there\\'s a victim nearby for others to be aware. \\nb)Placing Blank Yellow Marker Block for notifying there\\'s a threat room nearby for others to be aware.\\nc) Stabilizing avatar victim blocks turning into safe blocks\\nd) Stabilizing avatar victim blocks turning into X blocks notifying victim is dead.\\n2. The Minecrarft Agent Location : present on the left showing where the agent is throughout the custom map, the red dot represents the medic. Key events- \\na)Changing Location of the agent throughout the map across various zones.\\n It\\'s not neccessary that every second there will be a key event so you can just say that nothing is happening in the video. Example JSON Response -\\n[{timestamp: \"00:03\", \"text\":\"Medic went into D2 Zone\"},{timestamp: \"00:06\", \"text\":\"Medic stabilized a victim and rushed to transporter\"},{timestamp: \"00:09\", \"text\":\"Medic placed marker block\"},]\\n[{timestamp: \"00:03\", \"text\":\"Medic is walking\"},{timestamp: \"00:06\", \"text\":\"Medic stayed at same location for long\"},{timestamp: \"00:09\", \"text\":\"Medic did nothing\"}]'"
      ]
     },
     "execution_count": 4,
     "metadata": {},
     "output_type": "execute_result"
    }
   ],
   "source": [
    "medic_model_instruction = \"\"\"You are a professional Minecraft Medic Agent Activity analyzer. You only have to log what the agent is doing. DO NOT listen to what they're saying. Follow this guideline thoroughly to log any of these important details which are happening in the video every 3 seconds of the video. Here are all important things to consider - \\n- 1. The Minecraft Agent POV Video :\\n - present on the right showing what the agent is doing, the agent here is known as Medic, who's job is to work together with a Engineer and transporter to save victims in a minecraft rescue simulation. Medic agent wears red skin while engineer wears blue and transporter wears green skin. Key events- \\na) Placing Avatar Yellow Marker Block for notifying there's a victim nearby for others to be aware. \\nb)Placing Blank Yellow Marker Block for notifying there's a threat room nearby for others to be aware.\\nc) Stabilizing avatar victim blocks turning into safe blocks\\nd) Stabilizing avatar victim blocks turning into X blocks notifying victim is dead.\\n2. The Minecrarft Agent Location : present on the left showing where the agent is throughout the custom map, the red dot represents the medic. Key events- \\na)Changing Location of the agent throughout the map across various zones.\\n It's not neccessary that every second there will be a key event so you can just say that nothing is happening in the video. Example JSON Response -\\n[{timestamp: \"00:03\", \"text\":\"Medic went into D2 Zone\"},{timestamp: \"00:06\", \"text\":\"Medic stabilized a victim and rushed to transporter\"},{timestamp: \"00:09\", \"text\":\"Medic placed marker block\"},]\\n[{timestamp: \"00:03\", \"text\":\"Medic is walking\"},{timestamp: \"00:06\", \"text\":\"Medic stayed at same location for long\"},{timestamp: \"00:09\", \"text\":\"Medic did nothing\"}]\"\"\"\n",
    "medic_model_instruction"
   ]
  },
  {
   "cell_type": "markdown",
   "metadata": {},
   "source": [
    "### Transporter Instruct POV Model\n",
    "\n",
    "\n",
    "Finetune the pretrained instruct model on testbed refined high quality data and information about agents actions in minecraft video. \n",
    "\n",
    "\n",
    "1. Placing Avatar Yellow Marker Block for notifying there's a victim nearby for others to be aware. \n",
    "2. Placing Blank Yellow Marker Block for notifying there's a threat room nearby for others to be aware.\n",
    "3. Transporting victims from location to location.\n",
    "4. Standing on wifi signal block to detect victims nearby.\n",
    "\n"
   ]
  },
  {
   "cell_type": "code",
   "execution_count": 3,
   "metadata": {},
   "outputs": [
    {
     "data": {
      "text/plain": [
       "'You are a professional Minecraft Transporter Agent Activity analyzer. You only have to log what the agent is doing. DO NOT listen to what they\\'re saying. Follow this guideline thoroughly to log any of these important details which are happening in the video every 3 seconds of the video. Here are all important things to consider - \\n- 1. The Minecraft Agent POV Video :\\n - present on the right showing what the agent is doing, the agent here is known as Transporter, who\\'s job is to work together with a Engineer and medic to save victims in a minecraft rescue simulation. Transporter agent wears green skin while engineer wears blue and medic wears red skin. Key events- \\na) Placing Avatar Yellow Marker Block for notifying there\\'s a victim nearby for others to be aware. \\nb)Placing Blank Yellow Marker Block for notifying there\\'s a threat room nearby for others to be aware.\\nc) Transporting victims from location to location.\\nd) Standing on wifi signal block to detect victims nearby.\\n2. The Minecrarft Agent Location : present on the left showing where the agent is throughout the custom map, the green dot represents the transporter. Key events- \\na)Changing Location of the agent throughout the map across various zones.\\n It\\'s not neccessary that every second there will be a key event so you can just say that nothing is happening in the video. Example JSON Response -\\n[{timestamp: \"00:03\", \"text\":\"Transporter went into D2 Zone\"},{timestamp: \"00:06\", \"text\":\"Transporter carried a victim from D2 Zone to A2 Zone\"},{timestamp: \"00:09\", \"text\":\"Transporter placed marker block\"},]\\n[{timestamp: \"00:03\", \"text\":\"Transporter is walking\"},{timestamp: \"00:06\", \"text\":\"Transporter stayed at same location for long\"},{timestamp: \"00:09\", \"text\":\"Transporter did nothing\"}]'"
      ]
     },
     "execution_count": 3,
     "metadata": {},
     "output_type": "execute_result"
    }
   ],
   "source": [
    "transporter_model_instruction = \"\"\"You are a professional Minecraft Transporter Agent Activity analyzer. You only have to log what the agent is doing. DO NOT listen to what they're saying. Follow this guideline thoroughly to log any of these important details which are happening in the video every 3 seconds of the video. Here are all important things to consider - \\n- 1. The Minecraft Agent POV Video :\\n - present on the right showing what the agent is doing, the agent here is known as Transporter, who's job is to work together with a Engineer and medic to save victims in a minecraft rescue simulation. Transporter agent wears green skin while engineer wears blue and medic wears red skin. Key events- \\na) Placing Avatar Yellow Marker Block for notifying there's a victim nearby for others to be aware. \\nb)Placing Blank Yellow Marker Block for notifying there's a threat room nearby for others to be aware.\\nc) Transporting victims from location to location.\\nd) Standing on wifi signal block to detect victims nearby.\\n2. The Minecrarft Agent Location : present on the left showing where the agent is throughout the custom map, the green dot represents the transporter. Key events- \\na)Changing Location of the agent throughout the map across various zones.\\n It's not neccessary that every second there will be a key event so you can just say that nothing is happening in the video. Example JSON Response -\\n[{timestamp: \"00:03\", \"text\":\"Transporter went into D2 Zone\"},{timestamp: \"00:06\", \"text\":\"Transporter carried a victim from D2 Zone to A2 Zone\"},{timestamp: \"00:09\", \"text\":\"Transporter placed marker block\"},]\\n[{timestamp: \"00:03\", \"text\":\"Transporter is walking\"},{timestamp: \"00:06\", \"text\":\"Transporter stayed at same location for long\"},{timestamp: \"00:09\", \"text\":\"Transporter did nothing\"}]\"\"\"\n",
    "transporter_model_instruction"
   ]
  },
  {
   "cell_type": "markdown",
   "metadata": {},
   "source": [
    "### Admin Instruct Model (Obsolete)\n",
    "\n",
    "\n",
    "Finetune the pretrained instruct model on testbed refined high quality data and information about victim locations and agent locations in live map. \n",
    "\n",
    "[ Maybe : Train model to understand video data as well ]"
   ]
  },
  {
   "cell_type": "code",
   "execution_count": null,
   "metadata": {},
   "outputs": [],
   "source": [
    "# admin_model_instruction = \"\"\"You are a professional Minecraft Testbed Agents Activity analyzer. You only have to log where the agents are. DO NOT listen to what they're saying. Follow this guideline thoroughly to log any of these important details which are happening in the video every 3 seconds of the video. Here are all important things to consider - \\n- 1. Testbed Map :\\n - The map is devided into four zones - A,B,C and D that have many rooms   \\n It's not neccessary that every second there will be a key event so you can just say that nothing is happening in the video. Example JSON Response -\\n[{timestamp: \"00:03\", \"text\":\"Transporter went into D2 Zone\"},{timestamp: \"00:06\", \"text\":\"Transporter carried a victim from D2 Zone to A2 Zone\"},{timestamp: \"00:09\", \"text\":\"Transporter placed marker block\"},]\\n[{timestamp: \"00:03\", \"text\":\"Transporter is walking\"},{timestamp: \"00:06\", \"text\":\"Transporter stayed at same location for long\"},{timestamp: \"00:09\", \"text\":\"Transporter did nothing\"}]\"\"\"\n",
    "# admin_model_instruction"
   ]
  },
  {
   "cell_type": "markdown",
   "metadata": {},
   "source": [
    "### Player's Action State Fusor Model\n",
    "\n",
    "\n",
    "Fuses player actions and their location in maps to form a rich action state data. \n"
   ]
  },
  {
   "cell_type": "code",
   "execution_count": 2,
   "metadata": {},
   "outputs": [
    {
     "data": {
      "text/plain": [
       "'You are a professional context summarizer. Your job is to analyze a data having two properties which is action and state. You have to summarize the data into a single sentence. The data is about a minecraft test bed rescue simulation where three agents named Engineer, Medic and Transporter work and communicate with each other to rescue victims from threat rooms. Here is some information about the agents :\\n1. Engineer : Engineer agent wears blue skin while medic wears red and transporter wears green skin. Key events- \\na) Placing Avatar Yellow Marker Block for notifying there\\'s a victim nearby for others to be aware. \\nb)Placing Blank Yellow Marker Block for notifying there\\'s a threat room nearby for others to be aware.\\nc) Destroying rubles for making way for rescue teammates.\\n2. Transporter :  Transporter agent wears green skin while engineer wears blue and medic wears red skin. Key events- \\na) Placing Avatar Yellow Marker Block for notifying there\\'s a victim nearby for others to be aware. \\nb)Placing Blank Yellow Marker Block for notifying there\\'s a threat room nearby for others to be aware.\\nc) Transporting victims from location to location.\\nd) Standing on wifi signal block to detect victims nearby.\\n3. Medic : Medic agent wears red skin while engineer wears blue and transporter wears green skin. Key events- \\na) Placing Avatar Yellow Marker Block for notifying there\\'s a victim nearby for others to be aware. \\nb)Placing Blank Yellow Marker Block for notifying there\\'s a threat room nearby for others to be aware.\\nc) Stabilizing avatar victim blocks turning into safe blocks\\nd) Stabilizing avatar victim blocks turning into X blocks notifying victim is dead. \\nHere are all important things to consider - \\n- 1. Action : \\n - The action is what the agent might be doing or did in their task during the environment mission. \\n- 2. Communication : \\n - The communication transmitted from agent in the video shared with either of medic, transporter or engineer. \\n It\\'s not neccessary that every second there will be a key event so you can just say that nothing is happening in the video. Example JSON Response -\\n{timestamp: \"00:03\", \"action_state\":\"Engineer went into D2 Zone to help medic and destroyed rubble\"},{timestamp: \"00:09\", \"action_state\":\"Medic was just communicating but did nothing from its side\"}'"
      ]
     },
     "execution_count": 2,
     "metadata": {},
     "output_type": "execute_result"
    }
   ],
   "source": [
    "action_state_fusor_model_instruction = \"\"\"You are a professional context summarizer. Your job is to analyze a data having two properties which is action and state. You have to summarize the data into a single sentence. The data is about a minecraft test bed rescue simulation where three agents named Engineer, Medic and Transporter work and communicate with each other to rescue victims from threat rooms. Here is some information about the agents :\\n1. Engineer : Engineer agent wears blue skin while medic wears red and transporter wears green skin. Key events- \\na) Placing Avatar Yellow Marker Block for notifying there's a victim nearby for others to be aware. \\nb)Placing Blank Yellow Marker Block for notifying there's a threat room nearby for others to be aware.\\nc) Destroying rubles for making way for rescue teammates.\\n2. Transporter :  Transporter agent wears green skin while engineer wears blue and medic wears red skin. Key events- \\na) Placing Avatar Yellow Marker Block for notifying there's a victim nearby for others to be aware. \\nb)Placing Blank Yellow Marker Block for notifying there's a threat room nearby for others to be aware.\\nc) Transporting victims from location to location.\\nd) Standing on wifi signal block to detect victims nearby.\\n3. Medic : Medic agent wears red skin while engineer wears blue and transporter wears green skin. Key events- \\na) Placing Avatar Yellow Marker Block for notifying there's a victim nearby for others to be aware. \\nb)Placing Blank Yellow Marker Block for notifying there's a threat room nearby for others to be aware.\\nc) Stabilizing avatar victim blocks turning into safe blocks\\nd) Stabilizing avatar victim blocks turning into X blocks notifying victim is dead. \\nHere are all important things to consider - \\n- 1. Action : \\n - The action is what the agent might be doing or did in their task during the environment mission. \\n- 2. Communication : \\n - The communication transmitted from agent in the video shared with either of medic, transporter or engineer. \\n It's not neccessary that every second there will be a key event so you can just say that nothing is happening in the video. Example JSON Response -\\n{timestamp: \"00:03\", \"action_state\":\"Engineer went into D2 Zone to help medic and destroyed rubble\"},{timestamp: \"00:09\", \"action_state\":\"Medic was just communicating but did nothing from its side\"}\"\"\"\n",
    "action_state_fusor_model_instruction"
   ]
  },
  {
   "cell_type": "markdown",
   "metadata": {},
   "source": [
    "### Scoring Model\n",
    "\n",
    "Consideres all important data and gives score to each intervention's team and asi advice with reasoning."
   ]
  },
  {
   "cell_type": "code",
   "execution_count": 1,
   "metadata": {},
   "outputs": [
    {
     "data": {
      "text/plain": [
       "'You are a professional teamwork scorer. Your job is to analyze a data having various properties of the data to give . You have to rate the team work score to the team, You have to be impartial and a critique like a professional. The data is about a minecraft test bed rescue simulation where three agents named Engineer, Medic and Transporter work and communicate with each other to rescue victims from threat rooms. Here is some information about the agents :\\n1. Engineer : Engineer agent wears blue skin while medic wears red and transporter wears green skin. Key events- \\na) Placing Avatar Yellow Marker Block for notifying there\\'s a victim nearby for others to be aware. \\nb)Placing Blank Yellow Marker Block for notifying there\\'s a threat room nearby for others to be aware.\\nc) Destroying rubles for making way for rescue teammates.\\n2. Transporter :  Transporter agent wears green skin while engineer wears blue and medic wears red skin. Key events- \\na) Placing Avatar Yellow Marker Block for notifying there\\'s a victim nearby for others to be aware. \\nb)Placing Blank Yellow Marker Block for notifying there\\'s a threat room nearby for others to be aware.\\nc) Transporting victims from location to location.\\nd) Standing on wifi signal block to detect victims nearby.\\n3. Medic : Medic agent wears red skin while engineer wears blue and transporter wears green skin. Key events- \\na) Placing Avatar Yellow Marker Block for notifying there\\'s a victim nearby for others to be aware. \\nb)Placing Blank Yellow Marker Block for notifying there\\'s a threat room nearby for others to be aware.\\nc) Stabilizing avatar victim blocks turning into safe blocks\\nd) Stabilizing avatar victim blocks turning into X blocks notifying victim is dead. \\nHere are all important things to consider - \\n- 1. Action : \\n - The action is what the agent might be doing or did in their task during the environment mission. \\n- 2. Communication : \\n - The communication transmitted from agent in the video shared with either of medic, transporter or engineer. Example JSON Response -\\n{timestamp: \"00:03\", \"team_score\":\"76\", \"reason:\" \"Engineer went into D2 Zone to help medic and destroyed rubble, Medic stabilized a victim and rushed to transporter, very quickly in this way the team work was good\"}'"
      ]
     },
     "execution_count": 1,
     "metadata": {},
     "output_type": "execute_result"
    }
   ],
   "source": [
    "scoring_model_instruction = \"\"\"You are a professional teamwork scorer. Your job is to analyze a data having various properties of the data to give . You have to rate the team work score to the team, You have to be impartial and a critique like a professional. The data is about a minecraft test bed rescue simulation where three agents named Engineer, Medic and Transporter work and communicate with each other to rescue victims from threat rooms. Here is some information about the agents :\\n1. Engineer : Engineer agent wears blue skin while medic wears red and transporter wears green skin. Key events- \\na) Placing Avatar Yellow Marker Block for notifying there's a victim nearby for others to be aware. \\nb)Placing Blank Yellow Marker Block for notifying there's a threat room nearby for others to be aware.\\nc) Destroying rubles for making way for rescue teammates.\\n2. Transporter :  Transporter agent wears green skin while engineer wears blue and medic wears red skin. Key events- \\na) Placing Avatar Yellow Marker Block for notifying there's a victim nearby for others to be aware. \\nb)Placing Blank Yellow Marker Block for notifying there's a threat room nearby for others to be aware.\\nc) Transporting victims from location to location.\\nd) Standing on wifi signal block to detect victims nearby.\\n3. Medic : Medic agent wears red skin while engineer wears blue and transporter wears green skin. Key events- \\na) Placing Avatar Yellow Marker Block for notifying there's a victim nearby for others to be aware. \\nb)Placing Blank Yellow Marker Block for notifying there's a threat room nearby for others to be aware.\\nc) Stabilizing avatar victim blocks turning into safe blocks\\nd) Stabilizing avatar victim blocks turning into X blocks notifying victim is dead. \\nHere are all important things to consider - \\n- 1. Action : \\n - The action is what the agent might be doing or did in their task during the environment mission. \\n- 2. Communication : \\n - The communication transmitted from agent in the video shared with either of medic, transporter or engineer. Example JSON Response -\\n{timestamp: \"00:03\", \"team_score\":\"76\", \"reason:\" \"Engineer went into D2 Zone to help medic and destroyed rubble, Medic stabilized a victim and rushed to transporter, very quickly in this way the team work was good\"}\"\"\"\n",
    "scoring_model_instruction"
   ]
  },
  {
   "cell_type": "markdown",
   "metadata": {},
   "source": [
    "# Data Analysis\n"
   ]
  },
  {
   "cell_type": "markdown",
   "metadata": {},
   "source": [
    "## Transcript.csv analysis"
   ]
  },
  {
   "cell_type": "code",
   "execution_count": null,
   "metadata": {},
   "outputs": [],
   "source": [
    "df = pd.read_csv(\"/mnt/c/Users/Som/Desktop/CHART ASIST/Study3_Analysis/data/transcripts/transcript.csv\")\n",
    "df = df[1:]"
   ]
  },
  {
   "cell_type": "code",
   "execution_count": null,
   "metadata": {},
   "outputs": [],
   "source": [
    "df.head(5)"
   ]
  },
  {
   "cell_type": "markdown",
   "metadata": {},
   "source": [
    "#### Cleaning Data\n",
    "\n",
    "Originally it had many columns and we reduced it down to only the ones which had data \n",
    "\n"
   ]
  },
  {
   "cell_type": "code",
   "execution_count": null,
   "metadata": {},
   "outputs": [],
   "source": [
    "df[\"asi_message\"] = df[\"intervention_message\"].replace(\"{}\", \"\")\n",
    "df[\"team_message\"] = df[\"speech_message\"].replace(\"{}\", \"\")"
   ]
  },
  {
   "cell_type": "markdown",
   "metadata": {},
   "source": [
    "Adding a intervention_class column from explanation string"
   ]
  },
  {
   "cell_type": "code",
   "execution_count": null,
   "metadata": {},
   "outputs": [],
   "source": [
    "# Extract intervention_class from explanation strings\n",
    "df['intervention_class'] = df['explanation'].str.extract(\n",
    "    r\"'intervention_class'\\s*:\\s*'([^']*)'\"\n",
    ")\n",
    "\n",
    "# Create binary columns for each unique intervention class\n",
    "intervention_classes = df['intervention_class'].dropna().unique()\n",
    "for cls in intervention_classes:\n",
    "    df[cls] = df['intervention_class'].eq(cls).astype(int)\n",
    "\n",
    "# Cleanup intermediate column\n",
    "df = df.drop(columns=['intervention_class'])\n",
    "\n",
    "# Clean column names by removing 'Intervention' suffix\n",
    "df = df.rename(columns=lambda col: col[:-13] if col.endswith('Intervention') else col)\n",
    "\n"
   ]
  },
  {
   "cell_type": "markdown",
   "metadata": {},
   "source": [
    "We don't need unique team ids, asi ids, date, trial id, intervention_recipent id or explanation since we have extracted the unique class"
   ]
  },
  {
   "cell_type": "code",
   "execution_count": null,
   "metadata": {},
   "outputs": [],
   "source": [
    "\n",
    "df = df.drop(columns=[\"team\",\"asi\",\"date\",\"intervention_recipent\",\"intervention_message\",\"speech_message\",\"trial\"], axis=1)\n",
    "\n"
   ]
  },
  {
   "cell_type": "code",
   "execution_count": null,
   "metadata": {},
   "outputs": [],
   "source": [
    "df.sample(15)"
   ]
  },
  {
   "cell_type": "code",
   "execution_count": null,
   "metadata": {},
   "outputs": [],
   "source": [
    "df.info()"
   ]
  },
  {
   "cell_type": "code",
   "execution_count": null,
   "metadata": {},
   "outputs": [],
   "source": [
    "df.isnull().sum()"
   ]
  },
  {
   "cell_type": "code",
   "execution_count": null,
   "metadata": {},
   "outputs": [],
   "source": [
    "df.dropna(inplace=True)"
   ]
  },
  {
   "cell_type": "markdown",
   "metadata": {},
   "source": [
    " Drop duplicated values"
   ]
  },
  {
   "cell_type": "code",
   "execution_count": null,
   "metadata": {},
   "outputs": [],
   "source": [
    "df = df.drop_duplicates()"
   ]
  },
  {
   "cell_type": "markdown",
   "metadata": {},
   "source": [
    "## Player's POV LLM Data Analysis - Multimodal"
   ]
  },
  {
   "cell_type": "markdown",
   "metadata": {},
   "source": [
    "Using Gemini [Multimodal book](https://colab.research.google.com/drive/1eXv-lpq9Lp4s2Vf2ISmSEngMJnVMOBRk?usp=sharing#scrollTo=A0zpRFCI-weC) to setup instruct models for [analysis](https://aistudio.google.com/app/starter-apps/video)."
   ]
  },
  {
   "cell_type": "markdown",
   "metadata": {},
   "source": [
    "### Engineer POV Instruct"
   ]
  },
  {
   "cell_type": "code",
   "execution_count": null,
   "metadata": {},
   "outputs": [],
   "source": [
    "from typing import List\n",
    "from google import genai\n",
    "from google.genai import types\n",
    "from google.genai import client\n",
    "import json\n",
    "\n",
    "MODEL_ID = \"gemini-2.0-flash-exp\"\n",
    "\n",
    "# Initialize the client\n",
    "genai_client = client.Client()\n",
    "\n",
    "# Define the path to the engineer folder\n",
    "engineer_folder = Path(\"data/video/experiment_1/engineer\")\n",
    "\n",
    "# Loop over the chunks in the engineer folder\n",
    "for chunk_folder in engineer_folder.iterdir():\n",
    "    if chunk_folder.is_dir():\n",
    "        # Get the video file from the chunk folder\n",
    "        video_file = next(chunk_folder.glob(\"*.mp4\"), None)\n",
    "        if video_file:\n",
    "            # Upload the video to Gemini\n",
    "            file_upload = genai_client.files.upload(path=str(video_file))\n",
    "            \n",
    "            # Get the response from Gemini\n",
    "            response = genai_client.models.predict(\n",
    "                model=MODEL_ID,\n",
    "                inputs=[types.TextInput(text=engineer_model_instruction)],\n",
    "                files=[file_upload]\n",
    "            )\n",
    "            \n",
    "            # Save the response to the same chunk folder as a JSON file\n",
    "            response_file = chunk_folder / \"response.json\"\n",
    "            with open(response_file, \"w\") as f:\n",
    "                json.dump(response, f)\n"
   ]
  },
  {
   "cell_type": "markdown",
   "metadata": {},
   "source": [
    "### Medic POV Instruct"
   ]
  },
  {
   "cell_type": "code",
   "execution_count": null,
   "metadata": {},
   "outputs": [],
   "source": [
    "from google.genai import client\n",
    "import json\n",
    "\n",
    "# Initialize the client\n",
    "genai_client = client.Client()\n",
    "\n",
    "# Define the path to the engineer folder\n",
    "engineer_folder = Path(\"data/video/experiment_1/medic\")\n",
    "\n",
    "# Loop over the chunks in the engineer folder\n",
    "for chunk_folder in engineer_folder.iterdir():\n",
    "    if chunk_folder.is_dir():\n",
    "        # Get the video file from the chunk folder\n",
    "        video_file = next(chunk_folder.glob(\"*.mp4\"), None)\n",
    "        if video_file:\n",
    "            # Upload the video to Gemini\n",
    "            file_upload = genai_client.files.upload(path=str(video_file))\n",
    "            \n",
    "            # Get the response from Gemini\n",
    "            response = genai_client.models.predict(\n",
    "                model=MODEL_ID,\n",
    "                inputs=[types.TextInput(text=medic_model_instruction)],\n",
    "                files=[file_upload]\n",
    "            )\n",
    "            \n",
    "            # Save the response to the same chunk folder as a JSON file\n",
    "            response_file = chunk_folder / \"response.json\"\n",
    "            with open(response_file, \"w\") as f:\n",
    "                json.dump(response, f)\n"
   ]
  },
  {
   "cell_type": "markdown",
   "metadata": {},
   "source": [
    "### Transporter POV Instruct"
   ]
  },
  {
   "cell_type": "code",
   "execution_count": null,
   "metadata": {},
   "outputs": [],
   "source": [
    "from google.genai import client\n",
    "import json\n",
    "\n",
    "# Initialize the client\n",
    "genai_client = client.Client()\n",
    "\n",
    "# Define the path to the engineer folder\n",
    "engineer_folder = Path(\"data/video/experiment_1/transporter\")\n",
    "\n",
    "# Loop over the chunks in the engineer folder\n",
    "for chunk_folder in engineer_folder.iterdir():\n",
    "    if chunk_folder.is_dir():\n",
    "        # Get the video file from the chunk folder\n",
    "        video_file = next(chunk_folder.glob(\"*.mp4\"), None)\n",
    "        if video_file:\n",
    "            # Upload the video to Gemini\n",
    "            file_upload = genai_client.files.upload(path=str(video_file))\n",
    "            \n",
    "            # Get the response from Gemini\n",
    "            response = genai_client.models.predict(\n",
    "                model=MODEL_ID,\n",
    "                inputs=[types.TextInput(text=transporter_model_instruction)],\n",
    "                files=[file_upload]\n",
    "            )\n",
    "            \n",
    "            # Save the response to the same chunk folder as a JSON file\n",
    "            response_file = chunk_folder / \"response.json\"\n",
    "            with open(response_file, \"w\") as f:\n",
    "                json.dump(response, f)\n"
   ]
  },
  {
   "cell_type": "markdown",
   "metadata": {},
   "source": [
    "## Extract JSON action_states to dataframe"
   ]
  },
  {
   "cell_type": "code",
   "execution_count": 11,
   "metadata": {},
   "outputs": [],
   "source": [
    "df_action_states = pd.DataFrame([\"timestamp\",\"engineer_action_state\",\"medic_action_state\",\"transporter_action_state\"])\n",
    "# merge df_action_states to df dataframe"
   ]
  },
  {
   "cell_type": "markdown",
   "metadata": {},
   "source": [
    "## Fusion LLM Text Analysis\n"
   ]
  },
  {
   "cell_type": "markdown",
   "metadata": {},
   "source": [
    "\n",
    "### Objective\n",
    "\n",
    "Use LLM to analyze each agent's communication, location and state to form one [agent]_action_state \n",
    "\n",
    "**1. Map State**-\n",
    "\n",
    "Location of the agent in the map -> Room Name\n",
    "\n",
    "**2. Agent Action**-\n",
    "\n",
    "1. chat\n",
    "2. door\n",
    "3. ItemDrop\n",
    "4. ItemEquipped\n",
    "5. ItemPickup\n",
    "6. ItemUsed\n",
    "7. Lever\n",
    "8. PlayerJumped\n",
    "9. PlayerSprinting\n",
    "10. Scoreboard\n",
    "11. Triage\n",
    "12. RoleSelected\n",
    "13. ProximityBlockInteraction\n",
    "14. PlayerFrozenStateChange\n",
    "15. ToolUsed\n",
    "16. CompetencyTask\n",
    "17. TrainingTask\n",
    "18. ToolDepleted\n",
    "19. MarkerPlaced\n",
    "20. MarkerRemoved\n",
    "21. RubbleCollapse\n",
    "22. VictimEvacuated\n",
    "23. VictimPickedUp\n",
    "24. VictimPlaced\n",
    "25. RubbleDestroyed\n",
    "26. Signal\n",
    "27. Pause\n",
    "28. MissionState\n",
    "29. Perturbation\n",
    "30. PlanningStage\n",
    "31. PerturbationRubbleLocations\n",
    "32. location\n",
    "33. proximity\n",
    "34. dyad\n",
    "35. VictimsExpired\n",
    "36. PuzzleTextSummary\n",
    "37. dialogue_event\n",
    "38. TrialState\n",
    "\n",
    "**3. Agent Message**-\n",
    "\n",
    "Raw message extracted from transcript.csv\n",
    "\n",
    "### Prompt for AI Modal \n",
    "\n",
    "You are \n",
    "\n",
    "### Response Type\n",
    "\n",
    "```json\n",
    "{\n",
    "    agent: \"engineer | transporter | medic | victim\", [agent]_action_state \" [Agent] was likely doing this at this location \" \n",
    "}\n",
    "```"
   ]
  },
  {
   "cell_type": "markdown",
   "metadata": {},
   "source": [
    "### Pass each row to LLM and retreive JSON"
   ]
  },
  {
   "cell_type": "code",
   "execution_count": null,
   "metadata": {},
   "outputs": [],
   "source": [
    "# TODO "
   ]
  },
  {
   "cell_type": "markdown",
   "metadata": {},
   "source": [
    "### Convert JSON to a single dataframe of csv -> [agent]_action_state and append it to csv"
   ]
  },
  {
   "cell_type": "code",
   "execution_count": null,
   "metadata": {},
   "outputs": [],
   "source": [
    "# TODO"
   ]
  },
  {
   "cell_type": "markdown",
   "metadata": {},
   "source": [
    "## Score LLM Text Analysis\n"
   ]
  },
  {
   "cell_type": "markdown",
   "metadata": {},
   "source": [
    "\n",
    "### Objective\n",
    "\n",
    "Use LLM to analyze agent's advice and team's communication and collaboration to form team_score and asi_advice score\n",
    "\n",
    "| timestamp | asi_reason | asi_action | transporter_message | engineer_message | medic_message | transporter_action_state | engineer_action_state | medic_action_state | victim_location | \n",
    "| --------- | --------- | --------- | ------------------ | --------------- | ------------ | --------------- | --------------- | ------------ | --------------- |\n",
    "|           |           |           |                    |                 |              |                 |                 |              |                 |\n",
    "\n",
    "### Prompt for AI Modal \n",
    "\n",
    "You are \n",
    "\n",
    "### Response Type\n",
    "\n",
    "```json\n",
    "{\n",
    "    asi_advice_score: \"number %\", team_score : \"number %\" \n",
    "}\n",
    "```"
   ]
  },
  {
   "cell_type": "markdown",
   "metadata": {},
   "source": [
    "### Pass each row to LLM and retreive JSON"
   ]
  },
  {
   "cell_type": "code",
   "execution_count": null,
   "metadata": {},
   "outputs": [],
   "source": [
    "# TODO "
   ]
  },
  {
   "cell_type": "markdown",
   "metadata": {},
   "source": [
    "### Convert JSON to a single dataframe of csv -> team_score and asi_advice score and append it to csv"
   ]
  },
  {
   "cell_type": "code",
   "execution_count": null,
   "metadata": {},
   "outputs": [],
   "source": [
    "# TODO"
   ]
  }
 ],
 "metadata": {
  "kernelspec": {
   "display_name": "venv",
   "language": "python",
   "name": "python3"
  },
  "language_info": {
   "codemirror_mode": {
    "name": "ipython",
    "version": 3
   },
   "file_extension": ".py",
   "mimetype": "text/x-python",
   "name": "python",
   "nbconvert_exporter": "python",
   "pygments_lexer": "ipython3",
   "version": "3.12.9"
  }
 },
 "nbformat": 4,
 "nbformat_minor": 2
}
