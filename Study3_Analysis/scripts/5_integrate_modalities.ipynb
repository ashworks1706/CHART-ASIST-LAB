{
 "cells": [
  {
   "cell_type": "code",
   "execution_count": null,
   "metadata": {},
   "outputs": [],
   "source": [
    "# Jupyter Notebook Cell 1: Load Data\n",
    "import pandas as pd\n",
    "\n",
    "json_logs = pd.read_csv(\"data/processed/json_logs_parsed.csv\")\n",
    "surveys = pd.read_csv(\"data/processed/surveys_parsed.csv\")\n",
    "transcripts = pd.read_csv(\"data/processed/transcripts_labeled.csv\")\n",
    "\n",
    "# Jupyter Notebook Cell 2: Merge Data\n",
    "merged = pd.merge(\n",
    "    json_logs[['team_id', 'timestamp', 'game_score', 'advice_type']],\n",
    "    surveys[['team_id', 'cohesion_score']],\n",
    "    on='team_id'\n",
    ")\n",
    "\n",
    "# Jupyter Notebook Cell 3: Statistical Test\n",
    "from scipy.stats import spearmanr\n",
    "\n",
    "corr, p_value = spearmanr(merged['game_score'], merged['cohesion_score'])\n",
    "print(f\"Spearman’s ρ: {corr:.2f}, p = {p_value:.3f}\")\n",
    "\n",
    "# Jupyter Notebook Cell 4: Visualization\n",
    "import seaborn as sns\n",
    "import matplotlib.pyplot as plt\n",
    "\n",
    "sns.scatterplot(data=merged, x='game_score', y='cohesion_score', hue='advice_type')\n",
    "plt.title(\"Game Score vs. Cohesion Score by Advice Type\")\n",
    "plt.savefig(\"results/correlation_plot.png\")"
   ]
  }
 ],
 "metadata": {
  "kernelspec": {
   "display_name": ".venv",
   "language": "python",
   "name": "python3"
  },
  "language_info": {
   "name": "python",
   "version": "3.10.16"
  }
 },
 "nbformat": 4,
 "nbformat_minor": 2
}
