{
 "cells": [
  {
   "cell_type": "markdown",
   "metadata": {},
   "source": [
    "# Multi-Modal Data Analysis Workflow\n",
    "**ASIST Study 3 Dataset**  \n",
    "\n",
    "\n",
    "## Objective\n",
    "Analyze team performance data across four modalities:\n",
    "1. JSON behavior logs\n",
    "2. SPSS survey responses\n",
    "3. Video recordings\n",
    "4. Chat transcripts\n",
    "\n",
    "Identify correlations between AI interventions and team outcomes.\n"
   ]
  },
  {
   "cell_type": "markdown",
   "metadata": {},
   "source": [
    "# Installing dependencies"
   ]
  },
  {
   "cell_type": "markdown",
   "metadata": {},
   "source": [
    "%pip install opencv-python pandas scikit-learn seaborn matplotlib "
   ]
  },
  {
   "cell_type": "code",
   "execution_count": null,
   "metadata": {},
   "outputs": [],
   "source": [
    "import cv2\n",
    "from pathlib import Path\n",
    "import json\n",
    "import pandas as pd\n",
    "import openai\n",
    "from scipy.stats import spearmanr\n",
    "import seaborn as sns\n",
    "import matplotlib.pyplot as plt\n",
    "from pathlib import Path\n"
   ]
  },
  {
   "cell_type": "markdown",
   "metadata": {},
   "source": [
    "## 1. JSON Logs Processing\n",
    "### Objective\n",
    "Extract structured data from nested JSON logs containing:\n",
    "- Team actions\n",
    "- AI intervention timestamps\n",
    "- Mission outcomes\n"
   ]
  },
  {
   "cell_type": "code",
   "execution_count": null,
   "metadata": {},
   "outputs": [],
   "source": [
    "\n",
    "\n",
    "def parse_json_logs(input_path: Path, output_path: Path) -> pd.DataFrame:\n",
    "    \"\"\"Flatten nested JSON logs into structured format\"\"\"\n",
    "    with open(input_path, 'r') as f:\n",
    "        data = [json.loads(line) for line in f]\n",
    "    \n",
    "    df = pd.json_normalize(data, sep='_')\n",
    "    df.to_csv(output_path, index=False)\n",
    "    return df\n",
    "\n",
    "# Process all trial messages\n",
    "input_files = [\n",
    "    Path(\"data/json_logs/HSRData_TrialMessages_Trial-T000603_...\"),\n",
    "    Path(\"data/json_logs/HSRData_TrialMessages_Trial-T000639_...\"),\n",
    "    Path(\"data/json_logs/HSRData_TrialMessages_Trial-T000671_...\")\n",
    "]\n",
    "\n",
    "output_dir = Path(\"data/processed/json_parsed/\")\n",
    "output_dir.mkdir(parents=True, exist_ok=True)\n",
    "\n",
    "for file in input_files:\n",
    "    output_file = output_dir / f\"{file.stem}_parsed.csv\"\n",
    "    df = parse_json_logs(file, output_file)\n",
    "    print(f\"Processed {len(df)} records from {file.name}\")\n",
    "\n"
   ]
  },
  {
   "cell_type": "markdown",
   "metadata": {},
   "source": [
    "## 2. Survey Data Processing\n",
    "### Objective\n",
    "Convert SPSS survey data to analyzable CSV format with:\n",
    "- Cleaned column names\n",
    "- Consistent formatting\n"
   ]
  },
  {
   "cell_type": "code",
   "execution_count": null,
   "metadata": {},
   "outputs": [],
   "source": [
    "\n",
    "def process_surveys(input_path: Path, output_path: Path) -> pd.DataFrame:\n",
    "    \"\"\"Convert TAB-delimited survey data to CSV\"\"\"\n",
    "    df = pd.read_csv(input_path, sep='\\t')\n",
    "    df.columns = [col.strip().replace(' ', '_') for col in df.columns]\n",
    "    df.to_csv(output_path, index=False)\n",
    "    return df\n",
    "\n",
    "survey_file = Path(\"data/surveys/HSRData_Surveys0Fulltext_...\")\n",
    "output_path = Path(\"data/processed/surveys/surveys_parsed.csv\")\n",
    "df_surveys = process_surveys(survey_file, output_path)\n",
    "\n",
    "# %% [markdown]\n",
    "\"\"\"\n",
    "## 3. Transcript Analysis (NLP)\n",
    "### Objective\n",
    "Analyze team communication effectiveness using:\n",
    "- WebVTT transcript parsing\n",
    "- GPT-4 effectiveness scoring (1-5 scale)\n",
    "\"\"\"\n",
    "# %%\n",
    "def load_vtt(file_path: Path) -> pd.DataFrame:\n",
    "    \"\"\"Clean WebVTT subtitle files\"\"\"\n",
    "    with open(file_path, 'r', encoding='utf-8') as f:\n",
    "        lines = [line.strip() for line in f \n",
    "                if not line.startswith(('WEBVTT', 'NOTE', '00:')) \n",
    "                and line.strip()]\n",
    "    return pd.DataFrame(lines, columns=['text'])\n",
    "\n",
    "# Load and process transcripts\n",
    "transcript_file = Path(\"data/transcripts/HSRData_ZoomAudioTranscript_...\")\n",
    "df_transcript = load_vtt(transcript_file)\n"
   ]
  },
  {
   "cell_type": "code",
   "execution_count": null,
   "metadata": {},
   "outputs": [],
   "source": [
    "# Label effectiveness with GPT-4\n",
    "openai.api_key = \"YOUR_API_KEY\"  \n",
    "\n",
    "def label_effectiveness(text: str) -> int:\n",
    "    response = openai.ChatCompletion.create(\n",
    "        model=\"gpt-4\",\n",
    "        messages=[{\n",
    "            \"role\": \"system\",\n",
    "            \"content\": \"Rate communication effectiveness (1=chaotic, 5=coordinated)\"\n",
    "        }, {\n",
    "            \"role\": \"user\",\n",
    "            \"content\": text\n",
    "        }]\n",
    "    )\n",
    "    return int(response.choices[0].message['content'])\n",
    "\n",
    "df_sample = df_transcript.sample(100, random_state=42)\n",
    "df_sample['effectiveness'] = df_sample['text'].apply(label_effectiveness)\n",
    "df_sample.to_csv(\"data/processed/transcripts/labeled_transcripts.csv\")\n"
   ]
  },
  {
   "cell_type": "markdown",
   "metadata": {},
   "source": [
    "## 4. Video Analysis\n",
    "### Objective\n",
    "Extract key frames every 10 seconds for:\n",
    "- Activity pattern analysis\n",
    "- Non-verbal communication study\n"
   ]
  },
  {
   "cell_type": "code",
   "execution_count": null,
   "metadata": {},
   "outputs": [],
   "source": [
    "\n",
    "\n",
    "def extract_frames(video_path: Path, output_dir: Path, interval: int = 10):\n",
    "    \"\"\"Extract frames at fixed intervals\"\"\"\n",
    "    vidcap = cv2.VideoCapture(str(video_path))\n",
    "    fps = vidcap.get(cv2.CAP_PROP_FPS)\n",
    "    frame_interval = int(fps * interval)\n",
    "    \n",
    "    count = 0\n",
    "    while vidcap.isOpened():\n",
    "        success, frame = vidcap.read()\n",
    "        if not success: break\n",
    "        if count % frame_interval == 0:\n",
    "            cv2.imwrite(str(output_dir/f\"frame_{count}.jpg\"), frame)\n",
    "        count += 1\n",
    "\n",
    "video_file = Path(\"data/videos/HSRData_OBVideo_...\")\n",
    "output_dir = Path(\"data/processed/video_frames/\")\n",
    "extract_frames(video_file, output_dir)\n"
   ]
  },
  {
   "cell_type": "markdown",
   "metadata": {},
   "source": [
    "## 5. Multi-Modal Integration\n",
    "### Objective\n",
    "Correlate findings across all modalities:\n",
    "1. Merge parsed datasets\n",
    "2. Calculate Spearman correlations\n",
    "3. Visualize relationships\n"
   ]
  },
  {
   "cell_type": "code",
   "execution_count": null,
   "metadata": {},
   "outputs": [],
   "source": [
    "# Load processed data\n",
    "df_logs = pd.read_csv(\"data/processed/json_parsed/...\")\n",
    "df_surveys = pd.read_csv(\"data/processed/surveys/surveys_parsed.csv\")\n",
    "df_transcripts = pd.read_csv(\"data/processed/transcripts/labeled_transcripts.csv\")\n",
    "\n",
    "# Merge datasets\n",
    "merged_df = pd.merge(\n",
    "    df_logs[['team_id', 'game_score', 'advice_type']],\n",
    "    df_surveys[['team_id', 'cohesion_score']],\n",
    "    on='team_id'\n",
    ")\n",
    "\n",
    "# Statistical analysis\n",
    "\n",
    "corr, pval = spearmanr(merged_df['game_score'], merged_df['cohesion_score'])\n",
    "\n",
    "# Visualization\n",
    "\n",
    "plt.figure(figsize=(10,6))\n",
    "sns.scatterplot(\n",
    "    data=merged_df,\n",
    "    x='game_score',\n",
    "    y='cohesion_score',\n",
    "    hue='advice_type',\n",
    "    palette='viridis'\n",
    ")\n",
    "plt.title(f\"Game vs Cohesion Scores (ρ={corr:.2f}, p={pval:.3f})\")\n",
    "plt.savefig(\"results/correlation_plot.png\")\n"
   ]
  }
 ],
 "metadata": {
  "language_info": {
   "name": "python"
  }
 },
 "nbformat": 4,
 "nbformat_minor": 2
}
