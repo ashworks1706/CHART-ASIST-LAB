{
 "cells": [
  {
   "cell_type": "code",
   "execution_count": 1,
   "metadata": {},
   "outputs": [
    {
     "name": "stdout",
     "output_type": "stream",
     "text": [
      "Converted HSRData_ZoomAudioTranscript_Trial-na_Team-TM000315_Member-na_CondBtwn-ASI-CMURI-TA1_CondWin-na_Vers-1.vtt to /mnt/c/Users/Som/Desktop/CHART ASIST/Study3_Analysis/processed_data/csv_transcripts/HSRData_ZoomAudioTranscript_Trial-na_Team-TM000315_Member-na_CondBtwn-ASI-CMURI-TA1_CondWin-na_Vers-1.csv\n"
     ]
    }
   ],
   "source": [
    "import csv\n",
    "from pathlib import Path\n",
    "\n",
    "def vtt_to_csv(vtt_path: Path, output_dir: Path):\n",
    "    \"\"\"Convert VTT file to CSV with columns: Cue, Start, End, Text\"\"\"\n",
    "    with open(vtt_path, 'r', encoding='utf-8') as f:\n",
    "        content = f.read()\n",
    "\n",
    "    cues = []\n",
    "    current_cue = {}\n",
    "    \n",
    "    for line in content.splitlines():\n",
    "        line = line.strip()\n",
    "        if not line:\n",
    "            continue\n",
    "            \n",
    "        if line.isdigit():\n",
    "            current_cue[\"Cue\"] = line\n",
    "        elif '-->' in line:\n",
    "            start, end = line.split(' --> ')\n",
    "            current_cue[\"Start\"] = start\n",
    "            current_cue[\"End\"] = end\n",
    "        else:\n",
    "            current_cue[\"Text\"] = line\n",
    "            cues.append(current_cue)\n",
    "            current_cue = {}\n",
    "\n",
    "    # Create output directory if needed\n",
    "    output_dir.mkdir(parents=True, exist_ok=True)\n",
    "    \n",
    "    # Create output path matching input filename\n",
    "    output_path = output_dir / vtt_path.with_suffix('.csv').name\n",
    "    \n",
    "    with open(output_path, 'w', newline='', encoding='utf-8') as f:\n",
    "        writer = csv.DictWriter(f, fieldnames=[\"Cue\", \"Start\", \"End\", \"Text\"])\n",
    "        writer.writeheader()\n",
    "        writer.writerows(cues)\n",
    "        \n",
    "    print(f\"Converted {vtt_path.name} to {output_path}\")\n",
    "\n",
    "# Input and output paths\n",
    "input_vtt = Path(\"/mnt/c/Users/Som/Desktop/CHART ASIST/Study3_Analysis/processed_data/transcripts/HSRData_ZoomAudioTranscript_Trial-na_Team-TM000315_Member-na_CondBtwn-ASI-CMURI-TA1_CondWin-na_Vers-1.vtt\")\n",
    "output_dir = Path(\"/mnt/c/Users/Som/Desktop/CHART ASIST/Study3_Analysis/processed_data/csv_transcripts/\")\n",
    "\n",
    "# Execute conversion\n",
    "vtt_to_csv(input_vtt, output_dir)\n"
   ]
  },
  {
   "cell_type": "code",
   "execution_count": null,
   "metadata": {},
   "outputs": [],
   "source": []
  }
 ],
 "metadata": {
  "kernelspec": {
   "display_name": ".venv",
   "language": "python",
   "name": "python3"
  },
  "language_info": {
   "codemirror_mode": {
    "name": "ipython",
    "version": 3
   },
   "file_extension": ".py",
   "mimetype": "text/x-python",
   "name": "python",
   "nbconvert_exporter": "python",
   "pygments_lexer": "ipython3",
   "version": "3.10.16"
  }
 },
 "nbformat": 4,
 "nbformat_minor": 2
}
